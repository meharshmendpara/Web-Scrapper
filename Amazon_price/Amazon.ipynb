{
 "cells": [
  {
   "cell_type": "code",
   "execution_count": 7,
   "metadata": {},
   "outputs": [],
   "source": [
    "import csv\n",
    "from bs4 import BeautifulSoup\n",
    "from selenium import webdriver\n"
   ]
  },
  {
   "cell_type": "code",
   "execution_count": 8,
   "metadata": {},
   "outputs": [],
   "source": [
    "driver=webdriver.Chrome()"
   ]
  },
  {
   "cell_type": "code",
   "execution_count": 9,
   "metadata": {},
   "outputs": [],
   "source": [
    "url='https://www.amazon.com'\n",
    "driver.get(url)"
   ]
  },
  {
   "cell_type": "code",
   "execution_count": 12,
   "metadata": {},
   "outputs": [],
   "source": [
    "def get_url(search_item):\n",
    "    template='https://www.amazon.com/s?k={}&ref=nb_sb_noss_2'\n",
    "    search_item=search_item.replace(' ','+')\n",
    "    return template.format(search_item)\n"
   ]
  },
  {
   "cell_type": "code",
   "execution_count": 14,
   "metadata": {},
   "outputs": [
    {
     "name": "stdout",
     "output_type": "stream",
     "text": [
      "https://www.amazon.com/s?k=ultrawide+monitor&ref=nb_sb_noss_2\n"
     ]
    }
   ],
   "source": [
    "url=get_url('ultrawide monitor')\n",
    "print(url)"
   ]
  },
  {
   "cell_type": "code",
   "execution_count": 15,
   "metadata": {},
   "outputs": [],
   "source": [
    "driver.get(url)"
   ]
  },
  {
   "cell_type": "markdown",
   "metadata": {},
   "source": [
    "# Extract the collection\n"
   ]
  },
  {
   "cell_type": "code",
   "execution_count": 18,
   "metadata": {},
   "outputs": [],
   "source": [
    "soup=BeautifulSoup(driver.page_source,'html.parser')"
   ]
  },
  {
   "cell_type": "code",
   "execution_count": 24,
   "metadata": {},
   "outputs": [],
   "source": [
    "results=soup.find_all('div',{'data-component-type':'s-search-result'})"
   ]
  },
  {
   "cell_type": "code",
   "execution_count": 25,
   "metadata": {},
   "outputs": [
    {
     "name": "stdout",
     "output_type": "stream",
     "text": [
      "22\n"
     ]
    }
   ],
   "source": [
    "print(len(results))"
   ]
  },
  {
   "cell_type": "markdown",
   "metadata": {},
   "source": [
    "# Prototype the record\n"
   ]
  },
  {
   "cell_type": "code",
   "execution_count": 26,
   "metadata": {},
   "outputs": [],
   "source": [
    "item=results[0]"
   ]
  },
  {
   "cell_type": "code",
   "execution_count": 28,
   "metadata": {},
   "outputs": [
    {
     "name": "stdout",
     "output_type": "stream",
     "text": [
      "<div class=\"s-result-item s-asin sg-col-0-of-12 sg-col-16-of-20 AdHolder sg-col sg-col-12-of-16\" data-asin=\"B078GSH1LV\" data-cel-widget=\"search_result_0\" data-component-id=\"34\" data-component-type=\"s-search-result\" data-index=\"0\" data-uuid=\"33d63f64-07fb-4565-bb90-14cdd2554706\">\n",
      " <div class=\"sg-col-inner\">\n",
      "  <span cel_widget_id=\"MAIN-SEARCH_RESULTS-0\" class=\"celwidget slot=MAIN template=SEARCH_RESULTS widgetId=search-results\" data-cel-widget=\"MAIN-SEARCH_RESULTS-0\" data-csa-c-id=\"mkf8ew-8yxrbn-nl220n-52wgr4\">\n",
      "   <div class=\"rush-component\" data-component-id=\"35\" data-component-props='{\"percentageShownToFire\":\"50\",\"batchable\":true,\"requiredElementSelector\":\".s-image\",\"url\":\"https://www.amazon.com/gp/sponsored-products/logging/log-action.html?qualifier=1618717312&amp;id=573862076904716&amp;widgetName=sp_atf&amp;adId=200009857000351&amp;eventType=1&amp;adIndex=0\"}' data-component-type=\"s-impression-logger\">\n",
      "    <div class=\"rush-component\" data-component-id=\"36\" data-component-type=\"sp-sponsored-result\">\n",
      "     <div class=\"s-include-content-margin s-border-bottom s-latency-cf-section\">\n",
      "      <div class=\"a-section a-spacing-medium\">\n",
      "       <div class=\"sg-row\">\n",
      "        <div class=\"a-section a-spacing-micro s-min-height-small\">\n",
      "        </div>\n",
      "       </div>\n",
      "       <div class=\"sg-row\">\n",
      "        <div class=\"sg-col-4-of-12 sg-col-4-of-16 sg-col sg-col-4-of-20\">\n",
      "         <div class=\"sg-col-inner\">\n",
      "          <div class=\"a-section a-spacing-none\">\n",
      "           <span class=\"rush-component\" data-component-id=\"1\" data-component-type=\"s-product-image\">\n",
      "            <a class=\"a-link-normal s-no-outline\" href=\"/gp/slredirect/picassoRedirect.html/ref=pa_sp_atf_aps_sr_pg1_1?ie=UTF8&amp;adId=A102645020ZZO08BEH16G&amp;url=%2FLG-34WK650-W-34-UltraWide-21%2Fdp%2FB078GSH1LV%2Fref%3Dsr_1_1_sspa%3Fdchild%3D1%26keywords%3Dultrawide%2Bmonitor%26qid%3D1618717312%26sr%3D8-1-spons%26psc%3D1&amp;qualifier=1618717312&amp;id=573862076904716&amp;widgetName=sp_atf\">\n",
      "             <div class=\"a-section aok-relative s-image-fixed-height\">\n",
      "              <img alt='Sponsored Ad - LG 34WK650-W 34\" UltraWide 21:9 IPS Monitor with HDR10 and FreeSync (2018), Black/White' class=\"s-image\" data-image-index=\"0\" data-image-latency=\"s-product-image\" data-image-load=\"\" data-image-source-density=\"1\" src=\"https://m.media-amazon.com/images/I/819F1MjJJ8L._AC_UY218_.jpg\" srcset=\"https://m.media-amazon.com/images/I/819F1MjJJ8L._AC_UY218_.jpg 1x, https://m.media-amazon.com/images/I/819F1MjJJ8L._AC_UY327_FMwebp_QL65_.jpg 1.5x, https://m.media-amazon.com/images/I/819F1MjJJ8L._AC_UY436_FMwebp_QL65_.jpg 2x, https://m.media-amazon.com/images/I/819F1MjJJ8L._AC_UY545_FMwebp_QL65_.jpg 2.5x, https://m.media-amazon.com/images/I/819F1MjJJ8L._AC_UY654_FMwebp_QL65_.jpg 3x\"/>\n",
      "             </div>\n",
      "            </a>\n",
      "           </span>\n",
      "          </div>\n",
      "         </div>\n",
      "        </div>\n",
      "        <div class=\"sg-col-4-of-12 sg-col-8-of-16 sg-col-12-of-20 sg-col\">\n",
      "         <div class=\"sg-col-inner\">\n",
      "          <div class=\"sg-row\">\n",
      "           <div class=\"sg-col-4-of-12 sg-col-8-of-16 sg-col-12-of-20 sg-col\">\n",
      "            <div class=\"sg-col-inner\">\n",
      "             <div class=\"a-section a-spacing-none\">\n",
      "              <div class=\"a-row a-spacing-micro\">\n",
      "               <span class=\"a-declarative\" data-a-popover='{\"closeButton\":true,\"dataStrategy\":\"preload\",\"name\":\"sp-info-popover-B078GSH1LV\",\"position\":\"triggerVertical\"}' data-action=\"a-popover\">\n",
      "                <a aria-label=\"View Sponsored information or leave ad feedback\" class=\"s-label-popover s-sponsored-label-text\" href=\"javascript:void(0)\" role=\"button\" style=\"text-decoration: none;\">\n",
      "                 <span class=\"s-label-popover-default\">\n",
      "                  <span class=\"a-color-secondary\" dir=\"auto\">\n",
      "                   Sponsored\n",
      "                  </span>\n",
      "                 </span>\n",
      "                 <span class=\"s-label-popover-hover\">\n",
      "                  <span class=\"a-color-base\" dir=\"auto\">\n",
      "                   Sponsored\n",
      "                  </span>\n",
      "                 </span>\n",
      "                 <span class=\"aok-inline-block s-sponsored-label-info-icon\">\n",
      "                 </span>\n",
      "                </a>\n",
      "               </span>\n",
      "               <div class=\"a-popover-preload\" id=\"a-popover-sp-info-popover-B078GSH1LV\">\n",
      "                <span dir=\"auto\">\n",
      "                 You’re seeing this ad based on the product’s relevance to your search query.\n",
      "                </span>\n",
      "                <div class=\"a-row\">\n",
      "                 <span class=\"a-declarative\" data-action=\"s-safe-ajax-modal-trigger\" data-s-safe-ajax-modal-trigger='{\"ajaxUrl\":\"/gp/aq-feedback/lazyLoad/handler/af-sp-form-handler.html?pl=%7B%22adPlacementMetaData%22%3A%7B%22searchTerms%22%3A%22QjA3WkIyVE5aWg%3D%3D%22%2C%22pageType%22%3A%22Search%22%2C%22feedbackType%22%3A%22sponsoredProductsLoom%22%2C%22slotName%22%3A%22TOP%22%7D%2C%22adCreativeMetaData%22%3A%7B%22adProgramId%22%3A1024%2C%22adCreativeDetails%22%3A%5B%7B%22asin%22%3A%22B078GSH1LV%22%2C%22title%22%3A%22LG+34WK650-W+34%5C%22+UltraWide+21%3A9+IPS+Monitor+with+HDR10+and+FreeSync+%282018%29%2C+Black%2FWhite%22%2C%22priceInfo%22%3A%7B%22amount%22%3A346.99%2C%22currencyCode%22%3A%22USD%22%7D%2C%22sku%22%3A%22B078GSH1LV%22%2C%22adId%22%3A%22A102645020ZZO08BEH16G%22%2C%22campaignId%22%3A%22A0063301VI0A0QC4KGRU%22%7D%5D%7D%7D\",\"header\":\"Share your feedback\"}'>\n",
      "                  <a class=\"a-link-normal\" href=\"#\">\n",
      "                   <span dir=\"auto\">\n",
      "                    Leave ad feedback\n",
      "                   </span>\n",
      "                  </a>\n",
      "                 </span>\n",
      "                </div>\n",
      "               </div>\n",
      "              </div>\n",
      "              <h2 class=\"a-size-mini a-spacing-none a-color-base s-line-clamp-2\">\n",
      "               <a class=\"a-link-normal a-text-normal\" href=\"/gp/slredirect/picassoRedirect.html/ref=pa_sp_atf_aps_sr_pg1_1?ie=UTF8&amp;adId=A102645020ZZO08BEH16G&amp;url=%2FLG-34WK650-W-34-UltraWide-21%2Fdp%2FB078GSH1LV%2Fref%3Dsr_1_1_sspa%3Fdchild%3D1%26keywords%3Dultrawide%2Bmonitor%26qid%3D1618717312%26sr%3D8-1-spons%26psc%3D1&amp;qualifier=1618717312&amp;id=573862076904716&amp;widgetName=sp_atf\">\n",
      "                <span class=\"a-size-medium a-color-base a-text-normal\" dir=\"auto\">\n",
      "                 LG 34WK650-W 34\" UltraWide 21:9 IPS Monitor with HDR10 and FreeSync (2018), Black/White\n",
      "                </span>\n",
      "               </a>\n",
      "              </h2>\n",
      "             </div>\n",
      "             <div class=\"a-section a-spacing-none a-spacing-top-micro\">\n",
      "              <div class=\"a-row a-size-small\">\n",
      "               <span aria-label=\"4.7 out of 5 stars\">\n",
      "                <span class=\"a-declarative\" data-a-popover='{\"max-width\":\"700\",\"closeButton\":false,\"position\":\"triggerBottom\",\"url\":\"/review/widgets/average-customer-review/popover/ref=acr_search__popover?ie=UTF8&amp;asin=B078GSH1LV&amp;ref=acr_search__popover&amp;contextId=search\"}' data-action=\"a-popover\">\n",
      "                 <a class=\"a-popover-trigger a-declarative\" href=\"javascript:void(0)\">\n",
      "                  <i class=\"a-icon a-icon-star-small a-star-small-4-5 aok-align-bottom\">\n",
      "                   <span class=\"a-icon-alt\">\n",
      "                    4.7 out of 5 stars\n",
      "                   </span>\n",
      "                  </i>\n",
      "                  <i class=\"a-icon a-icon-popover\">\n",
      "                  </i>\n",
      "                 </a>\n",
      "                </span>\n",
      "               </span>\n",
      "               <span aria-label=\"950\">\n",
      "                <a class=\"a-link-normal\" href=\"/gp/slredirect/picassoRedirect.html/ref=pa_sp_atf_aps_sr_pg1_1?ie=UTF8&amp;adId=A102645020ZZO08BEH16G&amp;url=%2FLG-34WK650-W-34-UltraWide-21%2Fdp%2FB078GSH1LV%2Fref%3Dsr_1_1_sspa%3Fdchild%3D1%26keywords%3Dultrawide%2Bmonitor%26qid%3D1618717312%26sr%3D8-1-spons%26psc%3D1&amp;qualifier=1618717312&amp;id=573862076904716&amp;widgetName=sp_atf#customerReviews\">\n",
      "                 <span class=\"a-size-base\" dir=\"auto\">\n",
      "                  950\n",
      "                 </span>\n",
      "                </a>\n",
      "               </span>\n",
      "              </div>\n",
      "             </div>\n",
      "            </div>\n",
      "           </div>\n",
      "          </div>\n",
      "          <div class=\"sg-row\">\n",
      "           <div class=\"sg-col-4-of-12 sg-col-4-of-16 sg-col sg-col-4-of-20\">\n",
      "            <div class=\"sg-col-inner\">\n",
      "             <div class=\"a-section a-spacing-none a-spacing-top-small\">\n",
      "              <div class=\"a-row a-size-base a-color-base\">\n",
      "               <a class=\"a-size-base a-link-normal a-text-normal\" href=\"/gp/slredirect/picassoRedirect.html/ref=pa_sp_atf_aps_sr_pg1_1?ie=UTF8&amp;adId=A102645020ZZO08BEH16G&amp;url=%2FLG-34WK650-W-34-UltraWide-21%2Fdp%2FB078GSH1LV%2Fref%3Dsr_1_1_sspa%3Fdchild%3D1%26keywords%3Dultrawide%2Bmonitor%26qid%3D1618717312%26sr%3D8-1-spons%26psc%3D1&amp;qualifier=1618717312&amp;id=573862076904716&amp;widgetName=sp_atf\">\n",
      "                <span class=\"a-price\" data-a-color=\"base\" data-a-size=\"l\">\n",
      "                 <span class=\"a-offscreen\">\n",
      "                  $346.99\n",
      "                 </span>\n",
      "                 <span aria-hidden=\"true\">\n",
      "                  <span class=\"a-price-symbol\">\n",
      "                   $\n",
      "                  </span>\n",
      "                  <span class=\"a-price-whole\">\n",
      "                   346\n",
      "                   <span class=\"a-price-decimal\">\n",
      "                    .\n",
      "                   </span>\n",
      "                  </span>\n",
      "                  <span class=\"a-price-fraction\">\n",
      "                   99\n",
      "                  </span>\n",
      "                 </span>\n",
      "                </span>\n",
      "                <span class=\"a-price a-text-price\" data-a-color=\"secondary\" data-a-size=\"b\" data-a-strike=\"true\">\n",
      "                 <span class=\"a-offscreen\">\n",
      "                  $388.03\n",
      "                 </span>\n",
      "                 <span aria-hidden=\"true\">\n",
      "                  $388.03\n",
      "                 </span>\n",
      "                </span>\n",
      "               </a>\n",
      "              </div>\n",
      "             </div>\n",
      "             <div class=\"a-section a-spacing-none a-spacing-top-micro\">\n",
      "              <div class=\"a-row a-size-base a-color-secondary s-align-children-center\">\n",
      "               <span class=\"a-size-small a-color-secondary\" dir=\"auto\">\n",
      "                Ships to India\n",
      "               </span>\n",
      "              </div>\n",
      "             </div>\n",
      "            </div>\n",
      "           </div>\n",
      "           <div class=\"sg-col-4-of-12 sg-col-4-of-16 sg-col sg-col-8-of-20\">\n",
      "            <div class=\"sg-col-inner\">\n",
      "            </div>\n",
      "           </div>\n",
      "          </div>\n",
      "          <div class=\"sg-row\">\n",
      "           <div class=\"sg-col-16-of-20 sg-col sg-col-8-of-12 sg-col-12-of-16\">\n",
      "            <div class=\"sg-col-inner\">\n",
      "            </div>\n",
      "           </div>\n",
      "          </div>\n",
      "          <div class=\"sg-row\">\n",
      "           <div class=\"sg-col-16-of-20 sg-col sg-col-8-of-12 sg-col-12-of-16\">\n",
      "            <div class=\"sg-col-inner\">\n",
      "            </div>\n",
      "           </div>\n",
      "          </div>\n",
      "         </div>\n",
      "        </div>\n",
      "       </div>\n",
      "      </div>\n",
      "     </div>\n",
      "    </div>\n",
      "   </div>\n",
      "  </span>\n",
      " </div>\n",
      "</div>\n",
      "\n"
     ]
    }
   ],
   "source": [
    "print(item.prettify())"
   ]
  },
  {
   "cell_type": "code",
   "execution_count": 29,
   "metadata": {},
   "outputs": [
    {
     "name": "stdout",
     "output_type": "stream",
     "text": [
      "<a class=\"a-link-normal a-text-normal\" href=\"/gp/slredirect/picassoRedirect.html/ref=pa_sp_atf_aps_sr_pg1_1?ie=UTF8&amp;adId=A102645020ZZO08BEH16G&amp;url=%2FLG-34WK650-W-34-UltraWide-21%2Fdp%2FB078GSH1LV%2Fref%3Dsr_1_1_sspa%3Fdchild%3D1%26keywords%3Dultrawide%2Bmonitor%26qid%3D1618717312%26sr%3D8-1-spons%26psc%3D1&amp;qualifier=1618717312&amp;id=573862076904716&amp;widgetName=sp_atf\">\n",
      "<span class=\"a-size-medium a-color-base a-text-normal\" dir=\"auto\">LG 34WK650-W 34\" UltraWide 21:9 IPS Monitor with HDR10 and FreeSync (2018), Black/White</span>\n",
      "</a>\n"
     ]
    }
   ],
   "source": [
    "atag=item.h2.a\n",
    "print(atag)"
   ]
  },
  {
   "cell_type": "code",
   "execution_count": 32,
   "metadata": {},
   "outputs": [],
   "source": [
    "description=atag.text.strip()"
   ]
  },
  {
   "cell_type": "code",
   "execution_count": 35,
   "metadata": {},
   "outputs": [],
   "source": [
    "url=atag.get('href')"
   ]
  },
  {
   "cell_type": "code",
   "execution_count": 40,
   "metadata": {},
   "outputs": [
    {
     "data": {
      "text/plain": [
       "'$346.99'"
      ]
     },
     "execution_count": 40,
     "metadata": {},
     "output_type": "execute_result"
    }
   ],
   "source": [
    "price_parent=item.find('span','a-offscreen').text.strip()\n",
    "price_parent"
   ]
  },
  {
   "cell_type": "code",
   "execution_count": 41,
   "metadata": {},
   "outputs": [
    {
     "data": {
      "text/plain": [
       "'4.7 out of 5 stars'"
      ]
     },
     "execution_count": 41,
     "metadata": {},
     "output_type": "execute_result"
    }
   ],
   "source": [
    "reviews=item.i.text\n",
    "reviews"
   ]
  },
  {
   "cell_type": "code",
   "execution_count": 43,
   "metadata": {},
   "outputs": [
    {
     "data": {
      "text/plain": [
       "'950'"
      ]
     },
     "execution_count": 43,
     "metadata": {},
     "output_type": "execute_result"
    }
   ],
   "source": [
    "review_count=item.find('span',{'class':'a-size-base','dir':'auto'}).text\n",
    "review_count"
   ]
  },
  {
   "cell_type": "code",
   "execution_count": 52,
   "metadata": {},
   "outputs": [],
   "source": [
    "# Genrealize the pattern\n",
    "def extract_record(item):\n",
    "    atag=item.h2.a\n",
    "    description=atag.text.strip()\n",
    "    url=atag.get('href')\n",
    "    price_parent=item.find('span','a-price')\n",
    "    price=price_parent.find('span','a-offscreen').text\n",
    "    reviews=item.i.text\n",
    "    review_count=item.find('span',{'class':'a-size-base','dir':'auto'}).text\n",
    "        \n",
    "    result=(description,price,reviews,review_count,url)\n",
    "    return result"
   ]
  },
  {
   "cell_type": "code",
   "execution_count": null,
   "metadata": {},
   "outputs": [],
   "source": [
    "records=[]\n",
    "results=soup.find_all('div',{'data-component-type':'s-search-result'})\n",
    "for item in results:\n",
    "    records.append(extract_record(item))"
   ]
  },
  {
   "cell_type": "markdown",
   "metadata": {},
   "source": [
    "# Error Handling"
   ]
  },
  {
   "cell_type": "code",
   "execution_count": 56,
   "metadata": {},
   "outputs": [],
   "source": [
    "# Genrealize the pattern\n",
    "def extract_record(item):\n",
    "    atag=item.h2.a\n",
    "    description=atag.text.strip()\n",
    "    url='https://www.amazon.com'+atag.get('href')\n",
    "    \n",
    "    try:\n",
    "\n",
    "        price_parent=item.find('span','a-price')\n",
    "        price=price_parent.find('span','a-offscreen').text\n",
    "    except AttributeError:\n",
    "        return \n",
    "    \n",
    "    try:\n",
    "        reviews=item.i.text\n",
    "        review_count=item.find('span',{'class':'a-size-base','dir':'auto'}).text\n",
    "    except AttributeError:\n",
    "        reviews=''\n",
    "        review_count=''\n",
    "\n",
    "    result=(description,price,reviews,review_count,url)\n",
    "    return result"
   ]
  },
  {
   "cell_type": "code",
   "execution_count": 61,
   "metadata": {},
   "outputs": [],
   "source": [
    "records=[]\n",
    "results=soup.find_all('div',{'data-component-type':'s-search-result'})\n",
    "for item in results:\n",
    "    record=extract_record(item)\n",
    "    if record:\n",
    "        records.append(record)"
   ]
  },
  {
   "cell_type": "code",
   "execution_count": 62,
   "metadata": {},
   "outputs": [
    {
     "data": {
      "text/plain": [
       "('Lenovo G34w-10 34-Inch WQHD Curved Gaming Monitor, 21:9 Ultra-Wide, 3 Side NearEdgeless, 3440 x 1440, AMD FreeSync, 144Hz, HDMI, DP, Adjustable Stand, VESA, 66A1GCCBUS, Black',\n",
       " '$422.07',\n",
       " '4.2 out of 5 stars',\n",
       " '48',\n",
       " 'https://www.amazon.com/gp/slredirect/picassoRedirect.html/ref=pa_sp_btf_aps_sr_pg1_1?ie=UTF8&adId=A01469583JZSMOW3XCVVU&url=%2FLenovo-G34w-10-34-Inch-Curved-Monitor%2Fdp%2FB084R2XYM9%2Fref%3Dsr_1_22_sspa%3Fdchild%3D1%26keywords%3Dultrawide%2Bmonitor%26qid%3D1618717312%26sr%3D8-22-spons%26psc%3D1&qualifier=1618717312&id=573862076904716&widgetName=sp_btf')"
      ]
     },
     "execution_count": 62,
     "metadata": {},
     "output_type": "execute_result"
    }
   ],
   "source": [
    "record"
   ]
  },
  {
   "cell_type": "code",
   "execution_count": 63,
   "metadata": {},
   "outputs": [
    {
     "name": "stdout",
     "output_type": "stream",
     "text": [
      "$346.99\n",
      "$199.99\n",
      "$429.97\n",
      "$599.99\n",
      "$1,496.99\n",
      "$149.99\n",
      "$226.99\n",
      "$209.99\n",
      "$110.99\n",
      "$445.88\n",
      "$319.99\n",
      "$346.99\n",
      "$329.99\n",
      "$30.95\n",
      "$346.99\n",
      "$59.66\n",
      "$59.99\n",
      "$422.07\n"
     ]
    }
   ],
   "source": [
    "for row in records:\n",
    "    print(row[1])"
   ]
  },
  {
   "cell_type": "markdown",
   "metadata": {},
   "source": [
    "# Getting next page\n"
   ]
  },
  {
   "cell_type": "code",
   "execution_count": 64,
   "metadata": {},
   "outputs": [],
   "source": [
    "def get_url(search_item):\n",
    "    template='https://www.amazon.com/s?k={}&ref=nb_sb_noss_2'\n",
    "    search_item=search_item.replace(' ','+')\n",
    "    \n",
    "    url=template.format(search_item)\n",
    "    url+='&page{}'\n",
    "    return url\n"
   ]
  },
  {
   "cell_type": "markdown",
   "metadata": {},
   "source": [
    "# Putting all Together"
   ]
  },
  {
   "cell_type": "code",
   "execution_count": 69,
   "metadata": {},
   "outputs": [],
   "source": [
    "import csv\n",
    "from bs4 import BeautifulSoup\n",
    "from selenium import webdriver\n",
    "\n",
    "\n",
    "def get_url(search_item):\n",
    "    template='https://www.amazon.com/s?k={}&ref=nb_sb_noss_2'\n",
    "    search_item=search_item.replace(' ','+')\n",
    "    \n",
    "    url=template.format(search_item)\n",
    "    url+='&page{}'\n",
    "    return url\n",
    "\n",
    "# Genrealize the pattern\n",
    "def extract_record(item):\n",
    "    atag=item.h2.a\n",
    "    description=atag.text.strip()\n",
    "    url='https://www.amazon.com'+atag.get('href')\n",
    "    \n",
    "    try:\n",
    "\n",
    "        price_parent=item.find('span','a-price')\n",
    "        price=price_parent.find('span','a-offscreen').text\n",
    "    except AttributeError:\n",
    "        return \n",
    "    \n",
    "    try:\n",
    "        reviews=item.i.text\n",
    "        review_count=item.find('span',{'class':'a-size-base','dir':'auto'}).text\n",
    "    except AttributeError:\n",
    "        reviews=''\n",
    "        review_count=''\n",
    "\n",
    "    result=(description,price,reviews,review_count,url)\n",
    "    return result\n",
    "\n",
    "def main(search_term):\n",
    "    driver=webdriver.Chrome()\n",
    "    url='https://www.amazon.com'\n",
    "    record=[]\n",
    "    url=get_url(search_term)\n",
    "    for page in range(1,21):\n",
    "        driver.get(url.format(page))\n",
    "        soup=BeautifulSoup(driver.page_source,'html.parser')\n",
    "        results=soup.find_all('div',{'data-component-type':'s-search-result'})\n",
    "        \n",
    "        for item in results:\n",
    "            record=extract_record(item)\n",
    "            if record:\n",
    "                records.append(record)\n",
    "    driver.close()\n",
    "    \n",
    "    with open('Amazon.csv','w',newline='',encoding='utf-8') as f:\n",
    "        writer=csv.writer(f)\n",
    "        writer.writerow(['Description','Price','Rating','ReviewCount','Url'])\n",
    "        writer.writerows(records)\n",
    "        "
   ]
  },
  {
   "cell_type": "code",
   "execution_count": 70,
   "metadata": {},
   "outputs": [],
   "source": [
    "main('ultrawide monitor')"
   ]
  }
 ],
 "metadata": {
  "kernelspec": {
   "display_name": "Python 3",
   "language": "python",
   "name": "python3"
  },
  "language_info": {
   "codemirror_mode": {
    "name": "ipython",
    "version": 3
   },
   "file_extension": ".py",
   "mimetype": "text/x-python",
   "name": "python",
   "nbconvert_exporter": "python",
   "pygments_lexer": "ipython3",
   "version": "3.8.5"
  }
 },
 "nbformat": 4,
 "nbformat_minor": 4
}
