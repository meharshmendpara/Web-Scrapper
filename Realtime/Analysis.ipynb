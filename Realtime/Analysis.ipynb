{
 "cells": [
  {
   "cell_type": "code",
   "execution_count": 22,
   "metadata": {},
   "outputs": [],
   "source": [
    "import requests\n",
    "from bs4 import BeautifulSoup\n",
    "import datetime\n",
    "import pandas as pd"
   ]
  },
  {
   "cell_type": "code",
   "execution_count": null,
   "metadata": {},
   "outputs": [],
   "source": []
  },
  {
   "cell_type": "code",
   "execution_count": null,
   "metadata": {},
   "outputs": [],
   "source": []
  },
  {
   "cell_type": "code",
   "execution_count": 11,
   "metadata": {},
   "outputs": [],
   "source": []
  },
  {
   "cell_type": "code",
   "execution_count": 19,
   "metadata": {},
   "outputs": [],
   "source": [
    "def real_time_stock(stock_code):\n",
    "    url=('https://finance.yahoo.com/quote/{}.HK?p={}.HK&.tsrc=fin-srch').format(stock_code,stock_code)\n",
    "\n",
    "    r=requests.get(url)\n",
    "    soup=BeautifulSoup(r.text,'lxml')\n",
    "\n",
    "    web_content=soup.find('div',{'class':'My(6px) Pos(r) smartphone_Mt(6px)'})\n",
    "    web_content=web_content.find('span').text\n",
    "    \n",
    "    return web_content"
   ]
  },
  {
   "cell_type": "code",
   "execution_count": 20,
   "metadata": {},
   "outputs": [
    {
     "name": "stdout",
     "output_type": "stream",
     "text": [
      "63.750\n"
     ]
    }
   ],
   "source": [
    "web_content=real_time_stock('0001')\n",
    "print(web_content)"
   ]
  },
  {
   "cell_type": "code",
   "execution_count": 23,
   "metadata": {},
   "outputs": [
    {
     "name": "stdout",
     "output_type": "stream",
     "text": [
      "['2021-04-18 22:48:46', '63.750', '76.250', '12.380', '23.000']\n",
      "['2021-04-18 22:48:52', '63.750', '76.250', '12.380', '23.000']\n",
      "['2021-04-18 22:48:57', '63.750', '76.250', '12.380', '23.000']\n",
      "['2021-04-18 22:49:03', '63.750', '76.250', '12.380', '23.000']\n",
      "['2021-04-18 22:49:07', '63.750', '76.250', '12.380', '23.000']\n",
      "['2021-04-18 22:49:12', '63.750', '76.250', '12.380', '23.000']\n",
      "['2021-04-18 22:49:18', '63.750', '76.250', '12.380', '23.000']\n",
      "['2021-04-18 22:49:22', '63.750', '76.250', '12.380', '23.000']\n",
      "['2021-04-18 22:49:27', '63.750', '76.250', '12.380', '23.000']\n"
     ]
    }
   ],
   "source": [
    "HSI=['0001','0002','0003','0004']\n",
    "for step in range(1,101):\n",
    "    price=[]\n",
    "    col=[]\n",
    "    time_stamp=datetime.datetime.now()\n",
    "    time_stamp=time_stamp.strftime(\"%Y-%m-%d %H:%M:%S\")\n",
    "    for stock_code in HSI:\n",
    "        price.append(real_time_stock(stock_code))\n",
    "    col=[time_stamp]\n",
    "    col.extend(price)\n",
    "    df=pd.DataFrame(col)\n",
    "    df=df.T\n",
    "    df.to_csv('real_time.csv',mode='a',header=False)\n",
    "    print(col)"
   ]
  },
  {
   "cell_type": "code",
   "execution_count": null,
   "metadata": {},
   "outputs": [],
   "source": []
  },
  {
   "cell_type": "code",
   "execution_count": null,
   "metadata": {},
   "outputs": [],
   "source": []
  },
  {
   "cell_type": "code",
   "execution_count": null,
   "metadata": {},
   "outputs": [],
   "source": []
  },
  {
   "cell_type": "code",
   "execution_count": null,
   "metadata": {},
   "outputs": [],
   "source": []
  },
  {
   "cell_type": "code",
   "execution_count": null,
   "metadata": {},
   "outputs": [],
   "source": []
  },
  {
   "cell_type": "code",
   "execution_count": null,
   "metadata": {},
   "outputs": [],
   "source": []
  },
  {
   "cell_type": "code",
   "execution_count": null,
   "metadata": {},
   "outputs": [],
   "source": []
  },
  {
   "cell_type": "code",
   "execution_count": null,
   "metadata": {},
   "outputs": [],
   "source": []
  },
  {
   "cell_type": "code",
   "execution_count": null,
   "metadata": {},
   "outputs": [],
   "source": []
  },
  {
   "cell_type": "code",
   "execution_count": null,
   "metadata": {},
   "outputs": [],
   "source": []
  }
 ],
 "metadata": {
  "kernelspec": {
   "display_name": "Python 3",
   "language": "python",
   "name": "python3"
  },
  "language_info": {
   "codemirror_mode": {
    "name": "ipython",
    "version": 3
   },
   "file_extension": ".py",
   "mimetype": "text/x-python",
   "name": "python",
   "nbconvert_exporter": "python",
   "pygments_lexer": "ipython3",
   "version": "3.8.5"
  }
 },
 "nbformat": 4,
 "nbformat_minor": 4
}
